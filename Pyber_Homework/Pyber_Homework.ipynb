{
 "cells": [
  {
   "cell_type": "code",
   "execution_count": 1,
   "metadata": {},
   "outputs": [],
   "source": [
    "# import dependencies\n",
    "import matplotlib.pyplot as plt\n",
    "import pandas as pd\n",
    "import numpy as np\n",
    "    "
   ]
  },
  {
   "cell_type": "code",
   "execution_count": 2,
   "metadata": {},
   "outputs": [],
   "source": [
    "# get teh data\n",
    "city_data = \"raw_data/city_data.csv\"\n",
    "ride_data = \"raw_data/ride_data.csv\"\n",
    "\n",
    "cdata = pd.read_csv(city_data)\n",
    "rdata = pd.read_csv(ride_data)"
   ]
  },
  {
   "cell_type": "code",
   "execution_count": 3,
   "metadata": {},
   "outputs": [],
   "source": [
    "# observed in the data:\n",
    "#     the higher the population density, the more rides and lower fares\n",
    "#     much higher variation in rural data than suburban or urban\n",
    "#     One suburban datapoint could be an outlier"
   ]
  },
  {
   "cell_type": "code",
   "execution_count": 4,
   "metadata": {},
   "outputs": [],
   "source": [
    "# look at the data\n",
    "\n",
    "# len(rdata) = 2375\n",
    "# len(cdata) = 126\n",
    "# cdata columns: city, driver_count, type\n",
    "# rdata columns:  city, date, fare, ride_id\n",
    "# i'm going to left join cdata to rdata\n"
   ]
  },
  {
   "cell_type": "code",
   "execution_count": 5,
   "metadata": {},
   "outputs": [
    {
     "data": {
      "text/html": [
       "<div>\n",
       "<style scoped>\n",
       "    .dataframe tbody tr th:only-of-type {\n",
       "        vertical-align: middle;\n",
       "    }\n",
       "\n",
       "    .dataframe tbody tr th {\n",
       "        vertical-align: top;\n",
       "    }\n",
       "\n",
       "    .dataframe thead th {\n",
       "        text-align: right;\n",
       "    }\n",
       "</style>\n",
       "<table border=\"1\" class=\"dataframe\">\n",
       "  <thead>\n",
       "    <tr style=\"text-align: right;\">\n",
       "      <th></th>\n",
       "      <th>city</th>\n",
       "      <th>date</th>\n",
       "      <th>fare</th>\n",
       "      <th>ride_id</th>\n",
       "      <th>driver_count</th>\n",
       "      <th>type</th>\n",
       "    </tr>\n",
       "  </thead>\n",
       "  <tbody>\n",
       "    <tr>\n",
       "      <th>0</th>\n",
       "      <td>Sarabury</td>\n",
       "      <td>2016-01-16 13:49:27</td>\n",
       "      <td>38.35</td>\n",
       "      <td>5403689035038</td>\n",
       "      <td>46</td>\n",
       "      <td>Urban</td>\n",
       "    </tr>\n",
       "    <tr>\n",
       "      <th>1</th>\n",
       "      <td>South Roy</td>\n",
       "      <td>2016-01-02 18:42:34</td>\n",
       "      <td>17.49</td>\n",
       "      <td>4036272335942</td>\n",
       "      <td>35</td>\n",
       "      <td>Urban</td>\n",
       "    </tr>\n",
       "    <tr>\n",
       "      <th>2</th>\n",
       "      <td>Wiseborough</td>\n",
       "      <td>2016-01-21 17:35:29</td>\n",
       "      <td>44.18</td>\n",
       "      <td>3645042422587</td>\n",
       "      <td>55</td>\n",
       "      <td>Urban</td>\n",
       "    </tr>\n",
       "    <tr>\n",
       "      <th>3</th>\n",
       "      <td>Spencertown</td>\n",
       "      <td>2016-07-31 14:53:22</td>\n",
       "      <td>6.87</td>\n",
       "      <td>2242596575892</td>\n",
       "      <td>68</td>\n",
       "      <td>Urban</td>\n",
       "    </tr>\n",
       "    <tr>\n",
       "      <th>4</th>\n",
       "      <td>Nguyenbury</td>\n",
       "      <td>2016-07-09 04:42:44</td>\n",
       "      <td>6.28</td>\n",
       "      <td>1543057793673</td>\n",
       "      <td>8</td>\n",
       "      <td>Urban</td>\n",
       "    </tr>\n",
       "  </tbody>\n",
       "</table>\n",
       "</div>"
      ],
      "text/plain": [
       "          city                 date   fare        ride_id  driver_count   type\n",
       "0     Sarabury  2016-01-16 13:49:27  38.35  5403689035038            46  Urban\n",
       "1    South Roy  2016-01-02 18:42:34  17.49  4036272335942            35  Urban\n",
       "2  Wiseborough  2016-01-21 17:35:29  44.18  3645042422587            55  Urban\n",
       "3  Spencertown  2016-07-31 14:53:22   6.87  2242596575892            68  Urban\n",
       "4   Nguyenbury  2016-07-09 04:42:44   6.28  1543057793673             8  Urban"
      ]
     },
     "execution_count": 5,
     "metadata": {},
     "output_type": "execute_result"
    }
   ],
   "source": [
    "data = pd.merge(rdata, cdata, how='left', on='city')\n",
    "data.head()"
   ]
  },
  {
   "cell_type": "code",
   "execution_count": 6,
   "metadata": {},
   "outputs": [],
   "source": [
    "# need the groups\n",
    "    # Average Fare ($) Per City\n",
    "    # Total Number of Rides Per City\n",
    "    # Total Number of Drivers Per City\n",
    "    # City Type (Urban, Suburban, Rural)"
   ]
  },
  {
   "cell_type": "code",
   "execution_count": 7,
   "metadata": {},
   "outputs": [],
   "source": [
    "# break data into fare by type \n",
    "# example:df[df['ids'].str.contains(\"ball\")]\n",
    "fare_u=data[data['type'].str.contains(\"Urban\")]\n",
    "fare_s=data[data['type'].str.contains(\"Suburban\")]\n",
    "fare_r=data[data['type'].str.contains(\"Rural\")]\n",
    "# fare_s.head()"
   ]
  },
  {
   "cell_type": "code",
   "execution_count": 8,
   "metadata": {},
   "outputs": [],
   "source": [
    "# average fair by city\n",
    "avg_fare=rdata.groupby('city')['fare'].mean()\n",
    "# avg_fare # uncomment to see data\n",
    "\n",
    "# avg fare by city and type so i can make the colors different\n",
    "# there may be a better way to do this, but this works.\n",
    "avg_fare_u=fare_u.groupby('city')['fare'].mean()\n",
    "avg_fare_s=fare_s.groupby('city')['fare'].mean()\n",
    "avg_fare_r=fare_r.groupby('city')['fare'].mean()\n",
    "# avg_fare_u # uncomment to see results\n"
   ]
  },
  {
   "cell_type": "code",
   "execution_count": 9,
   "metadata": {},
   "outputs": [],
   "source": [
    "# count of rides by city\n",
    "cnt_rides=rdata.groupby('city')['ride_id'].count()\n",
    "# cnt_rides # uncomment to see data\n",
    "\n",
    "# break data out by type\n",
    "cnt_u=data[data['type'].str.contains(\"Urban\")]\n",
    "cnt_s=data[data['type'].str.contains(\"Suburban\")]\n",
    "cnt_r=data[data['type'].str.contains(\"Rural\")]\n",
    "# cnt_r"
   ]
  },
  {
   "cell_type": "code",
   "execution_count": 10,
   "metadata": {},
   "outputs": [],
   "source": [
    "# group each count by tyype on city and count them\n",
    "cnt_rides_u=cnt_u.groupby('city')['ride_id'].count()\n",
    "cnt_rides_s=cnt_s.groupby('city')['ride_id'].count()\n",
    "cnt_rides_r=cnt_r.groupby('city')['ride_id'].count()\n",
    "# cnt_rides_r"
   ]
  },
  {
   "cell_type": "code",
   "execution_count": 11,
   "metadata": {},
   "outputs": [],
   "source": [
    "# sum_fare=rdata.groupby('city')['fare'].sum()  # didn't need this."
   ]
  },
  {
   "cell_type": "code",
   "execution_count": 12,
   "metadata": {},
   "outputs": [],
   "source": [
    "cnt_drivers=cdata.groupby('city')['driver_count'].sum()"
   ]
  },
  {
   "cell_type": "code",
   "execution_count": 13,
   "metadata": {},
   "outputs": [],
   "source": [
    "rides_fares_df = pd.concat([cnt_rides, avg_fare], axis=1).reset_index()\n",
    "# rides_fairs_df.head()  # uncomment to see data"
   ]
  },
  {
   "cell_type": "code",
   "execution_count": 14,
   "metadata": {},
   "outputs": [],
   "source": [
    "# rename the columns\n",
    "rides_fares_df.columns=('city','Total Number of Rides Per City','Average Fare ($) Per City')\n",
    "# rides_fairs_df.head() # uncomment to see data"
   ]
  },
  {
   "cell_type": "code",
   "execution_count": 15,
   "metadata": {},
   "outputs": [
    {
     "data": {
      "text/html": [
       "<div>\n",
       "<style scoped>\n",
       "    .dataframe tbody tr th:only-of-type {\n",
       "        vertical-align: middle;\n",
       "    }\n",
       "\n",
       "    .dataframe tbody tr th {\n",
       "        vertical-align: top;\n",
       "    }\n",
       "\n",
       "    .dataframe thead th {\n",
       "        text-align: right;\n",
       "    }\n",
       "</style>\n",
       "<table border=\"1\" class=\"dataframe\">\n",
       "  <thead>\n",
       "    <tr style=\"text-align: right;\">\n",
       "      <th></th>\n",
       "      <th>city</th>\n",
       "      <th>driver_count</th>\n",
       "      <th>type</th>\n",
       "      <th>Total Number of Rides Per City</th>\n",
       "      <th>Average Fare ($) Per City</th>\n",
       "    </tr>\n",
       "  </thead>\n",
       "  <tbody>\n",
       "    <tr>\n",
       "      <th>0</th>\n",
       "      <td>Kelseyland</td>\n",
       "      <td>63</td>\n",
       "      <td>Urban</td>\n",
       "      <td>28</td>\n",
       "      <td>21.806429</td>\n",
       "    </tr>\n",
       "    <tr>\n",
       "      <th>1</th>\n",
       "      <td>Nguyenbury</td>\n",
       "      <td>8</td>\n",
       "      <td>Urban</td>\n",
       "      <td>26</td>\n",
       "      <td>25.899615</td>\n",
       "    </tr>\n",
       "    <tr>\n",
       "      <th>2</th>\n",
       "      <td>East Douglas</td>\n",
       "      <td>12</td>\n",
       "      <td>Urban</td>\n",
       "      <td>22</td>\n",
       "      <td>26.169091</td>\n",
       "    </tr>\n",
       "    <tr>\n",
       "      <th>3</th>\n",
       "      <td>West Dawnfurt</td>\n",
       "      <td>34</td>\n",
       "      <td>Urban</td>\n",
       "      <td>29</td>\n",
       "      <td>22.330345</td>\n",
       "    </tr>\n",
       "    <tr>\n",
       "      <th>4</th>\n",
       "      <td>Rodriguezburgh</td>\n",
       "      <td>52</td>\n",
       "      <td>Urban</td>\n",
       "      <td>23</td>\n",
       "      <td>21.332609</td>\n",
       "    </tr>\n",
       "  </tbody>\n",
       "</table>\n",
       "</div>"
      ],
      "text/plain": [
       "             city  driver_count   type  Total Number of Rides Per City  \\\n",
       "0      Kelseyland            63  Urban                              28   \n",
       "1      Nguyenbury             8  Urban                              26   \n",
       "2    East Douglas            12  Urban                              22   \n",
       "3   West Dawnfurt            34  Urban                              29   \n",
       "4  Rodriguezburgh            52  Urban                              23   \n",
       "\n",
       "   Average Fare ($) Per City  \n",
       "0                  21.806429  \n",
       "1                  25.899615  \n",
       "2                  26.169091  \n",
       "3                  22.330345  \n",
       "4                  21.332609  "
      ]
     },
     "execution_count": 15,
     "metadata": {},
     "output_type": "execute_result"
    }
   ],
   "source": [
    "plt_data = pd.merge(cdata, rides_fares_df, how='left', on='city')\n",
    "plt_data.head()"
   ]
  },
  {
   "cell_type": "code",
   "execution_count": 16,
   "metadata": {},
   "outputs": [
    {
     "data": {
      "text/plain": [
       "<function matplotlib.pyplot.show>"
      ]
     },
     "execution_count": 16,
     "metadata": {},
     "output_type": "execute_result"
    },
    {
     "data": {
      "image/png": "[encoded data removed]",
      "text/plain": [
       "<matplotlib.figure.Figure at 0x2db5568c2b0>"
      ]
     },
     "metadata": {},
     "output_type": "display_data"
    }
   ],
   "source": [
    "\n",
    "\n",
    "fig, ax = plt.subplots()\n",
    "\n",
    "plt.scatter(cnt_rides_u,avg_fare_u, c='gold', s=cnt_drivers, alpha=0.5, label='Urban')\n",
    "plt.scatter(cnt_rides_s,avg_fare_s, c='lightskyblue', s=cnt_drivers, alpha=0.5, label='Suburban')\n",
    "plt.scatter(cnt_rides_r,avg_fare_r, c='lightcoral', s=cnt_drivers, alpha=0.5, label='Rural')\n",
    "ax.set_xlabel(r'Total Number of Rides Per City', fontsize=15)\n",
    "ax.set_ylabel(r'Average Fare ($) Per City', fontsize=15)\n",
    "ax.set_title('Ride Count and Fare', fontsize=15)\n",
    "ax.legend()\n",
    "plt.show"
   ]
  },
  {
   "cell_type": "code",
   "execution_count": 17,
   "metadata": {},
   "outputs": [],
   "source": [
    "# help(plt.scatter)"
   ]
  },
  {
   "cell_type": "code",
   "execution_count": 18,
   "metadata": {},
   "outputs": [],
   "source": [
    "# % of Total Fares by City Type\n",
    "fare_type=data.groupby('type')['fare'].sum()\n",
    "# fare_type"
   ]
  },
  {
   "cell_type": "code",
   "execution_count": 19,
   "metadata": {},
   "outputs": [],
   "source": [
    "# % of Total Rides by City Type\n",
    "ride_type=data.groupby('type')['ride_id'].count()\n",
    "# ride_type"
   ]
  },
  {
   "cell_type": "code",
   "execution_count": 20,
   "metadata": {},
   "outputs": [],
   "source": [
    "# % of Total Drivers by City Type\n",
    "driver_type=data.groupby('type')['driver_count'].sum()\n",
    "# driver_type"
   ]
  },
  {
   "cell_type": "code",
   "execution_count": 21,
   "metadata": {},
   "outputs": [],
   "source": [
    "# Labels for the sections of our pie chart\n",
    "labels = [\"Rural\", \"Suburban\", \"Urban\"]\n",
    "\n",
    "# The colors of each section of the pie chart\n",
    "colors = [\"gold\", \"lightskyblue\", \"lightcoral\"]\n"
   ]
  },
  {
   "cell_type": "code",
   "execution_count": 22,
   "metadata": {},
   "outputs": [
    {
     "data": {
      "image/png": "[encoded data removed]",
      "text/plain": [
       "<matplotlib.figure.Figure at 0x2db5566eeb8>"
      ]
     },
     "metadata": {},
     "output_type": "display_data"
    }
   ],
   "source": [
    "# Creates the pie chart based upon the values above\n",
    "\n",
    "plt.pie(driver_type, labels=labels, colors=colors, autopct=\"%1.1f%%\", shadow=True, startangle=40)\n",
    "plt.title('Count of Drivers')\n",
    "# Tells matplotlib that we want a pie chart with equal axes\n",
    "plt.axis(\"equal\")\n",
    "# Prints our pie chart to the screen\n",
    "plt.show()"
   ]
  },
  {
   "cell_type": "code",
   "execution_count": 23,
   "metadata": {},
   "outputs": [
    {
     "data": {
      "image/png": "[encoded data removed]",
      "text/plain": [
       "<matplotlib.figure.Figure at 0x2db557de240>"
      ]
     },
     "metadata": {},
     "output_type": "display_data"
    }
   ],
   "source": [
    "# Creates the pie chart based upon the values above\n",
    "\n",
    "plt.pie(ride_type, labels=labels, colors=colors, autopct=\"%1.1f%%\", shadow=True, startangle=40)\n",
    "plt.title('Count of rides')\n",
    "# Tells matplotlib that we want a pie chart with equal axes\n",
    "plt.axis(\"equal\")\n",
    "\n",
    "# Prints our pie chart to the screen\n",
    "plt.show()"
   ]
  },
  {
   "cell_type": "code",
   "execution_count": 24,
   "metadata": {},
   "outputs": [
    {
     "data": {
      "image/png": "[encoded data removed]",
      "text/plain": [
       "<matplotlib.figure.Figure at 0x2db55843358>"
      ]
     },
     "metadata": {},
     "output_type": "display_data"
    }
   ],
   "source": [
    "# Creates the pie chart based upon the values above\n",
    "\n",
    "plt.pie(fare_type, labels=labels, colors=colors, autopct=\"%1.1f%%\", shadow=True, startangle=40)\n",
    "plt.title('Sum of Fare')\n",
    "# Tells matplotlib that we want a pie chart with equal axes\n",
    "plt.axis(\"equal\")\n",
    "# Prints our pie chart to the screen\n",
    "plt.show()"
   ]
  },
  {
   "cell_type": "code",
   "execution_count": null,
   "metadata": {},
   "outputs": [],
   "source": []
  }
 ],
 "metadata": {
  "kernelspec": {
   "display_name": "Python [default]",
   "language": "python",
   "name": "python3"
  },
  "language_info": {
   "codemirror_mode": {
    "name": "ipython",
    "version": 3
   },
   "file_extension": ".py",
   "mimetype": "text/x-python",
   "name": "python",
   "nbconvert_exporter": "python",
   "pygments_lexer": "ipython3",
   "version": "3.6.4"
  }
 },
 "nbformat": 4,
 "nbformat_minor": 2
}
